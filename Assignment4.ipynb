{
  "nbformat": 4,
  "nbformat_minor": 0,
  "metadata": {
    "colab": {
      "provenance": [],
      "authorship_tag": "ABX9TyODjkLHKvNFR8I6tcqGTnj1",
      "include_colab_link": true
    },
    "kernelspec": {
      "name": "python3",
      "display_name": "Python 3"
    },
    "language_info": {
      "name": "python"
    }
  },
  "cells": [
    {
      "cell_type": "markdown",
      "metadata": {
        "id": "view-in-github",
        "colab_type": "text"
      },
      "source": [
        "<a href=\"https://colab.research.google.com/github/IamSavitha/Datawarehouse/blob/main/Assignment4.ipynb\" target=\"_parent\"><img src=\"https://colab.research.google.com/assets/colab-badge.svg\" alt=\"Open In Colab\"/></a>"
      ]
    },
    {
      "cell_type": "code",
      "execution_count": 2,
      "metadata": {
        "id": "AMJOLmEQGQyc"
      },
      "outputs": [],
      "source": [
        "\n",
        "import os\n",
        "\n",
        "os.environ[\"ALPHA_VANTAGE_API_KEY\"] = \"N9LNZ3Q3I1QALQOV\"\n",
        "os.environ[\"SNOWFLAKE_USER\"] = \"SAVITHAVIJAYARANGAN\"\n",
        "os.environ[\"SNOWFLAKE_PASSWORD\"] = \"Studywell12345$\"\n",
        "os.environ[\"SNOWFLAKE_ACCOUNT\"] = \"TRB46163\"\n",
        "\n"
      ]
    },
    {
      "cell_type": "code",
      "source": [
        "ALPHA_VANTAGE_API_KEY = os.getenv(\"ALPHA_VANTAGE_API_KEY\")\n",
        "SNOWFLAKE_USER = os.getenv(\"SNOWFLAKE_USER\")\n",
        "SNOWFLAKE_PASSWORD = os.getenv(\"SNOWFLAKE_PASSWORD\")\n",
        "SNOWFLAKE_ACCOUNT = os.getenv(\"SNOWFLAKE_ACCOUNT\")\n"
      ],
      "metadata": {
        "id": "-yUpe4zoG8HQ"
      },
      "execution_count": 23,
      "outputs": []
    },
    {
      "cell_type": "code",
      "source": [
        "import requests\n",
        "import pandas as pd\n",
        "\n",
        "# Define stock symbol\n",
        "STOCK_SYMBOL = \"AAPL\"  # Change to any stock you prefer\n",
        "\n",
        "# Alpha Vantage API URL\n",
        "url = f\"https://www.alphavantage.co/query?function=TIME_SERIES_DAILY&symbol={STOCK_SYMBOL}&apikey={ALPHA_VANTAGE_API_KEY}&outputsize=compact\"\n",
        "\n",
        "# Fetch data\n",
        "response = requests.get(url)\n",
        "data = response.json()\n",
        "\n",
        "# Extract time series data\n",
        "time_series = data.get(\"Time Series (Daily)\", {})\n",
        "\n",
        "# Convert to DataFrame\n",
        "df = pd.DataFrame.from_dict(time_series, orient=\"index\")\n",
        "df.reset_index(inplace=True)\n",
        "df.columns = [\"date\", \"open\", \"high\", \"low\", \"close\", \"volume\"]\n",
        "\n",
        "# Convert data types\n",
        "df[\"date\"] = pd.to_datetime(df[\"date\"])\n",
        "df[[\"open\", \"high\", \"low\", \"close\", \"volume\"]] = df[[\"open\", \"high\", \"low\", \"close\", \"volume\"]].astype(float)\n",
        "\n",
        "# Keep only last 90 days\n",
        "df = df.sort_values(\"date\", ascending=False).head(90)\n",
        "\n",
        "print(df.head())  # Display first few rows\n"
      ],
      "metadata": {
        "colab": {
          "base_uri": "https://localhost:8080/"
        },
        "id": "fZNC1AcQHJlh",
        "outputId": "e55af793-8492-40be-fb9a-075b1711bd71"
      },
      "execution_count": 24,
      "outputs": [
        {
          "output_type": "stream",
          "name": "stdout",
          "text": [
            "        date    open    high       low   close      volume\n",
            "0 2025-02-21  245.95  248.69  245.2200  245.55  53197431.0\n",
            "1 2025-02-20  244.94  246.78  244.2900  245.83  32316907.0\n",
            "2 2025-02-19  244.66  246.01  243.1604  244.87  32204215.0\n",
            "3 2025-02-18  244.15  245.18  241.8400  244.47  48822491.0\n",
            "4 2025-02-14  241.25  245.55  240.9900  244.60  40896227.0\n"
          ]
        }
      ]
    },
    {
      "cell_type": "code",
      "source": [
        "!pip install snowflake-connector-python\n",
        "\n",
        "import snowflake.connector\n",
        "\n",
        "# Establish connection\n",
        "conn = snowflake.connector.connect(\n",
        "    user=SNOWFLAKE_USER,\n",
        "    password=SNOWFLAKE_PASSWORD,\n",
        "    account=SNOWFLAKE_ACCOUNT\n",
        ")\n",
        "\n",
        "# Create a cursor\n",
        "cur = conn.cursor()\n"
      ],
      "metadata": {
        "colab": {
          "base_uri": "https://localhost:8080/"
        },
        "id": "jju94fUSHn2A",
        "outputId": "35842835-2926-412f-9267-5becfae785a3"
      },
      "execution_count": 25,
      "outputs": [
        {
          "output_type": "stream",
          "name": "stdout",
          "text": [
            "Requirement already satisfied: snowflake-connector-python in /usr/local/lib/python3.11/dist-packages (3.13.2)\n",
            "Requirement already satisfied: asn1crypto<2.0.0,>0.24.0 in /usr/local/lib/python3.11/dist-packages (from snowflake-connector-python) (1.5.1)\n",
            "Requirement already satisfied: cffi<2.0.0,>=1.9 in /usr/local/lib/python3.11/dist-packages (from snowflake-connector-python) (1.17.1)\n",
            "Requirement already satisfied: cryptography>=3.1.0 in /usr/local/lib/python3.11/dist-packages (from snowflake-connector-python) (43.0.3)\n",
            "Requirement already satisfied: pyOpenSSL<25.0.0,>=22.0.0 in /usr/local/lib/python3.11/dist-packages (from snowflake-connector-python) (24.2.1)\n",
            "Requirement already satisfied: pyjwt<3.0.0 in /usr/local/lib/python3.11/dist-packages (from snowflake-connector-python) (2.10.1)\n",
            "Requirement already satisfied: pytz in /usr/local/lib/python3.11/dist-packages (from snowflake-connector-python) (2025.1)\n",
            "Requirement already satisfied: requests<3.0.0 in /usr/local/lib/python3.11/dist-packages (from snowflake-connector-python) (2.32.3)\n",
            "Requirement already satisfied: packaging in /usr/local/lib/python3.11/dist-packages (from snowflake-connector-python) (24.2)\n",
            "Requirement already satisfied: charset_normalizer<4,>=2 in /usr/local/lib/python3.11/dist-packages (from snowflake-connector-python) (3.4.1)\n",
            "Requirement already satisfied: idna<4,>=2.5 in /usr/local/lib/python3.11/dist-packages (from snowflake-connector-python) (3.10)\n",
            "Requirement already satisfied: certifi>=2017.4.17 in /usr/local/lib/python3.11/dist-packages (from snowflake-connector-python) (2025.1.31)\n",
            "Requirement already satisfied: typing_extensions<5,>=4.3 in /usr/local/lib/python3.11/dist-packages (from snowflake-connector-python) (4.12.2)\n",
            "Requirement already satisfied: filelock<4,>=3.5 in /usr/local/lib/python3.11/dist-packages (from snowflake-connector-python) (3.17.0)\n",
            "Requirement already satisfied: sortedcontainers>=2.4.0 in /usr/local/lib/python3.11/dist-packages (from snowflake-connector-python) (2.4.0)\n",
            "Requirement already satisfied: platformdirs<5.0.0,>=2.6.0 in /usr/local/lib/python3.11/dist-packages (from snowflake-connector-python) (4.3.6)\n",
            "Requirement already satisfied: tomlkit in /usr/local/lib/python3.11/dist-packages (from snowflake-connector-python) (0.13.2)\n",
            "Requirement already satisfied: pycparser in /usr/local/lib/python3.11/dist-packages (from cffi<2.0.0,>=1.9->snowflake-connector-python) (2.22)\n",
            "Requirement already satisfied: urllib3<3,>=1.21.1 in /usr/local/lib/python3.11/dist-packages (from requests<3.0.0->snowflake-connector-python) (2.3.0)\n"
          ]
        }
      ]
    },
    {
      "cell_type": "code",
      "source": [
        "import snowflake.connector\n",
        "import os\n",
        "\n",
        "# Corrected Snowflake Account Identifier\n",
        "SNOWFLAKE_ACCOUNT = \"trb46163.us-west-2\"\n",
        "\n",
        "# Securely retrieve credentials\n",
        "SNOWFLAKE_USER = os.getenv(\"SNOWFLAKE_USER\")\n",
        "SNOWFLAKE_PASSWORD = os.getenv(\"SNOWFLAKE_PASSWORD\")\n",
        "\n",
        "# Connect to Snowflake\n",
        "conn = snowflake.connector.connect(\n",
        "    user=SNOWFLAKE_USER,\n",
        "    password=SNOWFLAKE_PASSWORD,\n",
        "    account=SNOWFLAKE_ACCOUNT\n",
        ")\n",
        "\n",
        "cur = conn.cursor()\n",
        "print(\"Connected to Snowflake!\")\n"
      ],
      "metadata": {
        "colab": {
          "base_uri": "https://localhost:8080/"
        },
        "id": "xxNbi17WKviF",
        "outputId": "6ab55cc9-b39a-4e51-e96c-a899f9769f4f"
      },
      "execution_count": 26,
      "outputs": [
        {
          "output_type": "stream",
          "name": "stdout",
          "text": [
            "Connected to Snowflake!\n"
          ]
        }
      ]
    },
    {
      "cell_type": "code",
      "source": [
        "# Step 1: Select your database (replace 'mydatabase' with your actual database name)\n",
        "cur.execute(\"USE DATABASE mydatabase\")\n",
        "\n",
        "# Step 2: Create the schema if it doesn’t exist\n",
        "cur.execute(\"CREATE SCHEMA IF NOT EXISTS raw\")\n",
        "\n",
        "# Step 3: Create the table inside the 'raw' schema\n",
        "create_table_query = \"\"\"\n",
        "CREATE TABLE IF NOT EXISTS raw.stock_data (\n",
        "    symbol STRING,\n",
        "    date DATE,\n",
        "    open FLOAT,\n",
        "    high FLOAT,\n",
        "    low FLOAT,\n",
        "    close FLOAT,\n",
        "    volume FLOAT,\n",
        "    PRIMARY KEY (symbol, date)\n",
        ")\n",
        "\"\"\"\n",
        "cur.execute(create_table_query)\n",
        "\n",
        "print(\"Table 'raw.stock_data' created or already exists.\")\n"
      ],
      "metadata": {
        "colab": {
          "base_uri": "https://localhost:8080/"
        },
        "id": "PEr5RPRRLIb6",
        "outputId": "dded2015-e254-427b-8377-f8428b7f214c"
      },
      "execution_count": 27,
      "outputs": [
        {
          "output_type": "stream",
          "name": "stdout",
          "text": [
            "Table 'raw.stock_data' created or already exists.\n"
          ]
        }
      ]
    },
    {
      "cell_type": "code",
      "source": [
        "# Show tables in the 'raw' schema\n",
        "cur.execute(\"SHOW TABLES IN raw\")"
      ],
      "metadata": {
        "colab": {
          "base_uri": "https://localhost:8080/"
        },
        "id": "unKRrKCyLto4",
        "outputId": "e2f38870-254a-4bc7-8abc-39a22f87369c"
      },
      "execution_count": 28,
      "outputs": [
        {
          "output_type": "execute_result",
          "data": {
            "text/plain": [
              "<snowflake.connector.cursor.SnowflakeCursor at 0x784592994290>"
            ]
          },
          "metadata": {},
          "execution_count": 28
        }
      ]
    },
    {
      "cell_type": "code",
      "source": [
        "tables = cur.fetchall()\n",
        "for table in tables:\n",
        "    print(table)\n"
      ],
      "metadata": {
        "colab": {
          "base_uri": "https://localhost:8080/"
        },
        "id": "Q50zerYML99-",
        "outputId": "93a7fd3a-2e25-4acc-b8b7-d0009f79c0c0"
      },
      "execution_count": 29,
      "outputs": [
        {
          "output_type": "stream",
          "name": "stdout",
          "text": [
            "(datetime.datetime(2025, 2, 22, 11, 30, 10, 840000, tzinfo=<DstTzInfo 'America/Los_Angeles' PST-1 day, 16:00:00 STD>), 'STOCK_DATA', 'MYDATABASE', 'RAW', 'TABLE', '', '', 90, 6144, 'ACCOUNTADMIN', '1', 'OFF', 'OFF', 'OFF', None, None, 'N', 'N', 'ROLE', 'N', None, 'N', 'N', 'N', 'N')\n"
          ]
        }
      ]
    },
    {
      "cell_type": "code",
      "source": [
        "delete_query = \"DELETE FROM raw.stock_data WHERE symbol = %s\"\n",
        "cur.execute(delete_query, (STOCK_SYMBOL,))\n",
        "\n"
      ],
      "metadata": {
        "colab": {
          "base_uri": "https://localhost:8080/"
        },
        "id": "09Swg834L90k",
        "outputId": "cf63fa07-b843-4c4e-be8a-6c5afe9e1a9f"
      },
      "execution_count": 30,
      "outputs": [
        {
          "output_type": "execute_result",
          "data": {
            "text/plain": [
              "<snowflake.connector.cursor.SnowflakeCursor at 0x784592994290>"
            ]
          },
          "metadata": {},
          "execution_count": 30
        }
      ]
    },
    {
      "cell_type": "code",
      "source": [
        "try:\n",
        "    cur.execute(\"BEGIN\")  # Start transaction\n",
        "\n",
        "    insert_query = \"\"\"\n",
        "        INSERT INTO raw.stock_data (symbol, date, open, high, low, close, volume)\n",
        "        VALUES (%s, %s, %s, %s, %s, %s, %s)\n",
        "    \"\"\"\n",
        "\n",
        "    # Loop through DataFrame and insert data\n",
        "    for _, row in df.iterrows():\n",
        "        cur.execute(insert_query, (\n",
        "            STOCK_SYMBOL,\n",
        "            row[\"date\"].strftime('%Y-%m-%d'),  # Convert date to string\n",
        "            row[\"open\"],\n",
        "            row[\"high\"],\n",
        "            row[\"low\"],\n",
        "            row[\"close\"],\n",
        "            row[\"volume\"]\n",
        "        ))\n",
        "\n",
        "    cur.execute(\"COMMIT\")  # Commit transaction\n",
        "    print(\"Data inserted successfully!\")\n",
        "\n",
        "except Exception as e:\n",
        "    cur.execute(\"ROLLBACK\")  # Rollback in case of an error\n",
        "    print(\"Error occurred:\", e)\n"
      ],
      "metadata": {
        "colab": {
          "base_uri": "https://localhost:8080/"
        },
        "id": "EBDBMrvGMJ7V",
        "outputId": "a038e3cf-7819-4ce2-f5ad-ae6a064e6ecb"
      },
      "execution_count": 31,
      "outputs": [
        {
          "output_type": "stream",
          "name": "stdout",
          "text": [
            "Data inserted successfully!\n"
          ]
        }
      ]
    },
    {
      "cell_type": "code",
      "source": [
        "cur.execute(\"SELECT COUNT(*) FROM raw.stock_data WHERE symbol = %s\", (STOCK_SYMBOL,))\n",
        "record_count = cur.fetchone()\n",
        "print(f\"Total records after re-running: {record_count[0]}\")\n"
      ],
      "metadata": {
        "colab": {
          "base_uri": "https://localhost:8080/"
        },
        "id": "l9e8K9f6MsK_",
        "outputId": "5eb38541-d646-4f8f-a812-8612956f93ee"
      },
      "execution_count": 32,
      "outputs": [
        {
          "output_type": "stream",
          "name": "stdout",
          "text": [
            "Total records after re-running: 90\n"
          ]
        }
      ]
    }
  ]
}